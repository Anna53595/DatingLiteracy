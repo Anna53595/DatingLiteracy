{
 "cells": [
  {
   "cell_type": "code",
   "execution_count": 41,
   "metadata": {},
   "outputs": [],
   "source": [
    "import pandas as pd\n",
    "import seaborn as sns\n",
    "import matplotlib.pyplot as plt\n",
    "import numpy as np\n",
    "from utils import preprocessing\n",
    "sns.set(style='darkgrid')\n",
    "from sklearn.preprocessing import OrdinalEncoder, OneHotEncoder, LabelEncoder\n",
    "from sklearn.feature_selection import SelectKBest\n",
    "from sklearn.feature_selection import chi2\n",
    "from sklearn.model_selection import train_test_split\n",
    "from sklearn.model_selection import StratifiedKFold\n",
    "from sklearn.naive_bayes import CategoricalNB\n",
    "from sklearn.model_selection import GridSearchCV\n",
    "from sklearn.linear_model import LogisticRegression\n"
   ]
  },
  {
   "cell_type": "code",
   "execution_count": 2,
   "metadata": {},
   "outputs": [],
   "source": [
    "# data loading\n",
    "questions = pd.read_csv('data/question_data.csv', sep=';')\n",
    "questions = questions.set_index('Unnamed: 0')  # set first column (question number) as index\n",
    "questions.index = questions.index.rename('q_id')"
   ]
  },
  {
   "cell_type": "code",
   "execution_count": 3,
   "metadata": {},
   "outputs": [],
   "source": [
    "data = pd.read_parquet('data/train.parquet')\n",
    "political_belief = 'q212813'\n",
    "data.rename({'q212813': 'political_belief'}, axis=1, inplace=True)\n",
    "data.rename({'Unnamed: 0': 'user_id'}, axis=1, inplace=True)"
   ]
  },
  {
   "cell_type": "code",
   "execution_count": 10,
   "metadata": {},
   "outputs": [
    {
     "data": {
      "text/html": [
       "<div>\n",
       "<style scoped>\n",
       "    .dataframe tbody tr th:only-of-type {\n",
       "        vertical-align: middle;\n",
       "    }\n",
       "\n",
       "    .dataframe tbody tr th {\n",
       "        vertical-align: top;\n",
       "    }\n",
       "\n",
       "    .dataframe thead th {\n",
       "        text-align: right;\n",
       "    }\n",
       "</style>\n",
       "<table border=\"1\" class=\"dataframe\">\n",
       "  <thead>\n",
       "    <tr style=\"text-align: right;\">\n",
       "      <th></th>\n",
       "      <th>text</th>\n",
       "      <th>option_1</th>\n",
       "      <th>option_2</th>\n",
       "      <th>option_3</th>\n",
       "      <th>option_4</th>\n",
       "      <th>N</th>\n",
       "      <th>Type</th>\n",
       "      <th>Order</th>\n",
       "      <th>Keywords</th>\n",
       "    </tr>\n",
       "    <tr>\n",
       "      <th>q_id</th>\n",
       "      <th></th>\n",
       "      <th></th>\n",
       "      <th></th>\n",
       "      <th></th>\n",
       "      <th></th>\n",
       "      <th></th>\n",
       "      <th></th>\n",
       "      <th></th>\n",
       "      <th></th>\n",
       "    </tr>\n",
       "  </thead>\n",
       "  <tbody>\n",
       "    <tr>\n",
       "      <th>q49</th>\n",
       "      <td>Which word describes you better?</td>\n",
       "      <td>Carefree</td>\n",
       "      <td>Intense</td>\n",
       "      <td>NaN</td>\n",
       "      <td>NaN</td>\n",
       "      <td>49827</td>\n",
       "      <td>N</td>\n",
       "      <td>NaN</td>\n",
       "      <td>descriptive</td>\n",
       "    </tr>\n",
       "    <tr>\n",
       "      <th>q50</th>\n",
       "      <td>Have you ever seen a therapist?</td>\n",
       "      <td>Yes</td>\n",
       "      <td>No</td>\n",
       "      <td>NaN</td>\n",
       "      <td>NaN</td>\n",
       "      <td>9507</td>\n",
       "      <td>O</td>\n",
       "      <td>NaN</td>\n",
       "      <td>descriptive</td>\n",
       "    </tr>\n",
       "    <tr>\n",
       "      <th>q60</th>\n",
       "      <td>Which describes you better?</td>\n",
       "      <td>Warm-hearted</td>\n",
       "      <td>Cool-headed</td>\n",
       "      <td>NaN</td>\n",
       "      <td>NaN</td>\n",
       "      <td>21205</td>\n",
       "      <td>O</td>\n",
       "      <td>NaN</td>\n",
       "      <td>descriptive</td>\n",
       "    </tr>\n",
       "    <tr>\n",
       "      <th>q61</th>\n",
       "      <td>Are you a better conversationalist or listener?</td>\n",
       "      <td>Conversationalist</td>\n",
       "      <td>Listener</td>\n",
       "      <td>NaN</td>\n",
       "      <td>NaN</td>\n",
       "      <td>3174</td>\n",
       "      <td>O</td>\n",
       "      <td>NaN</td>\n",
       "      <td>descriptive</td>\n",
       "    </tr>\n",
       "    <tr>\n",
       "      <th>q63</th>\n",
       "      <td>Which word describes you better?</td>\n",
       "      <td>Private</td>\n",
       "      <td>Social</td>\n",
       "      <td>NaN</td>\n",
       "      <td>NaN</td>\n",
       "      <td>23765</td>\n",
       "      <td>O</td>\n",
       "      <td>NaN</td>\n",
       "      <td>descriptive</td>\n",
       "    </tr>\n",
       "  </tbody>\n",
       "</table>\n",
       "</div>"
      ],
      "text/plain": [
       "                                                 text           option_1  \\\n",
       "q_id                                                                       \n",
       "q49                  Which word describes you better?           Carefree   \n",
       "q50                   Have you ever seen a therapist?                Yes   \n",
       "q60                       Which describes you better?       Warm-hearted   \n",
       "q61   Are you a better conversationalist or listener?  Conversationalist   \n",
       "q63                  Which word describes you better?            Private   \n",
       "\n",
       "         option_2 option_3 option_4      N Type Order     Keywords  \n",
       "q_id                                                                \n",
       "q49       Intense      NaN      NaN  49827    N   NaN  descriptive  \n",
       "q50            No      NaN      NaN   9507    O   NaN  descriptive  \n",
       "q60   Cool-headed      NaN      NaN  21205    O   NaN  descriptive  \n",
       "q61      Listener      NaN      NaN   3174    O   NaN  descriptive  \n",
       "q63        Social      NaN      NaN  23765    O   NaN  descriptive  "
      ]
     },
     "execution_count": 10,
     "metadata": {},
     "output_type": "execute_result"
    }
   ],
   "source": [
    "descriptive_questions = [column for column in data.columns if column.startswith('q')]+['d_gender']\n",
    "questions.loc[descriptive_questions].head()"
   ]
  },
  {
   "cell_type": "code",
   "execution_count": 17,
   "metadata": {},
   "outputs": [
    {
     "data": {
      "text/html": [
       "<div>\n",
       "<style scoped>\n",
       "    .dataframe tbody tr th:only-of-type {\n",
       "        vertical-align: middle;\n",
       "    }\n",
       "\n",
       "    .dataframe tbody tr th {\n",
       "        vertical-align: top;\n",
       "    }\n",
       "\n",
       "    .dataframe thead th {\n",
       "        text-align: right;\n",
       "    }\n",
       "</style>\n",
       "<table border=\"1\" class=\"dataframe\">\n",
       "  <thead>\n",
       "    <tr style=\"text-align: right;\">\n",
       "      <th></th>\n",
       "      <th>text</th>\n",
       "    </tr>\n",
       "  </thead>\n",
       "  <tbody>\n",
       "    <tr>\n",
       "      <th>q416235</th>\n",
       "      <td>Do you like watching foreign movies with subti...</td>\n",
       "    </tr>\n",
       "    <tr>\n",
       "      <th>q85419</th>\n",
       "      <td>Which type of wine would you prefer to drink o...</td>\n",
       "    </tr>\n",
       "    <tr>\n",
       "      <th>d_gender</th>\n",
       "      <td>Gender</td>\n",
       "    </tr>\n",
       "    <tr>\n",
       "      <th>q358084</th>\n",
       "      <td>Do you enjoy intense intellectual conversations?</td>\n",
       "    </tr>\n",
       "    <tr>\n",
       "      <th>q501</th>\n",
       "      <td>Have you smoked a cigarette in the last 6 months?</td>\n",
       "    </tr>\n",
       "    <tr>\n",
       "      <th>q77</th>\n",
       "      <td>How frequently do you drink alcohol?</td>\n",
       "    </tr>\n",
       "    <tr>\n",
       "      <th>q20930</th>\n",
       "      <td>Rate your self-confidence:</td>\n",
       "    </tr>\n",
       "    <tr>\n",
       "      <th>q29829</th>\n",
       "      <td>How often do you keep your promises?</td>\n",
       "    </tr>\n",
       "    <tr>\n",
       "      <th>q35660</th>\n",
       "      <td>How often are you open with your feelings?</td>\n",
       "    </tr>\n",
       "    <tr>\n",
       "      <th>q80</th>\n",
       "      <td>What's your deal with harder drugs (stuff beyo...</td>\n",
       "    </tr>\n",
       "  </tbody>\n",
       "</table>\n",
       "</div>"
      ],
      "text/plain": [
       "                                                       text\n",
       "q416235   Do you like watching foreign movies with subti...\n",
       "q85419    Which type of wine would you prefer to drink o...\n",
       "d_gender                                             Gender\n",
       "q358084    Do you enjoy intense intellectual conversations?\n",
       "q501      Have you smoked a cigarette in the last 6 months?\n",
       "q77                    How frequently do you drink alcohol?\n",
       "q20930                           Rate your self-confidence:\n",
       "q29829                 How often do you keep your promises?\n",
       "q35660           How often are you open with your feelings?\n",
       "q80       What's your deal with harder drugs (stuff beyo..."
      ]
     },
     "metadata": {},
     "output_type": "display_data"
    }
   ],
   "source": [
    "# per question count number of times the question is answered\n",
    "n_answers_per_question = data[descriptive_questions].count(axis=0)\n",
    "sorted_questions = n_answers_per_question.sort_values(ascending=False).index\n",
    "question_data = questions.join(n_answers_per_question.to_frame('n_answers')) \n",
    "display(questions.loc[sorted_questions[:10]][['text']])"
   ]
  },
  {
   "attachments": {},
   "cell_type": "markdown",
   "metadata": {},
   "source": [
    "# Top K questions df"
   ]
  },
  {
   "cell_type": "code",
   "execution_count": 26,
   "metadata": {},
   "outputs": [
    {
     "name": "stdout",
     "output_type": "stream",
     "text": [
      "(36085, 830)\n"
     ]
    }
   ],
   "source": [
    "features_df = data[descriptive_questions]\n",
    "print(features_df.shape)"
   ]
  },
  {
   "cell_type": "code",
   "execution_count": 29,
   "metadata": {},
   "outputs": [],
   "source": [
    "K=200\n",
    "subset_size_topk = [features_df.loc[:, sorted_questions[:k]].dropna().shape[0] for k in range(1, K)]"
   ]
  },
  {
   "cell_type": "code",
   "execution_count": 32,
   "metadata": {},
   "outputs": [
    {
     "data": {
      "text/plain": [
       "49"
      ]
     },
     "execution_count": 32,
     "metadata": {},
     "output_type": "execute_result"
    }
   ],
   "source": [
    "# biggest k with >10.000 subjects who answered ALL k questions\n",
    "n_most_answered = next(x[0] for x in enumerate(subset_size_topk) if x[1] <= 10000)\n",
    "n_most_answered"
   ]
  },
  {
   "cell_type": "code",
   "execution_count": 33,
   "metadata": {},
   "outputs": [
    {
     "data": {
      "image/png": "[encoded data removed]",
      "text/plain": [
       "<Figure size 432x288 with 1 Axes>"
      ]
     },
     "metadata": {},
     "output_type": "display_data"
    }
   ],
   "source": [
    "g = sns.lineplot(x = range(1,K), y = subset_size_topk)\n",
    "g.axhline(y=10000, color='red', linewidth=0.5)\n",
    "g.axvline(x=n_most_answered, color='red', linewidth=0.5)\n",
    "\n",
    "#plt.ylim(0,len(features_df))\n",
    "g.set_title('Nr of subjects who answered the same k most anwered questions ')\n",
    "plt.show()"
   ]
  },
  {
   "attachments": {},
   "cell_type": "markdown",
   "metadata": {},
   "source": [
    "# Feature Encoding und Selection"
   ]
  },
  {
   "cell_type": "code",
   "execution_count": 34,
   "metadata": {},
   "outputs": [],
   "source": [
    "top_questions = sorted_questions[:n_most_answered].to_list()\n",
    "features_df = features_df[top_questions]\n",
    "target = data.loc[features_df.index][['political_belief']]"
   ]
  },
  {
   "cell_type": "code",
   "execution_count": 218,
   "metadata": {},
   "outputs": [
    {
     "data": {
      "text/plain": [
       "((30672, 830), (5413, 830))"
      ]
     },
     "execution_count": 218,
     "metadata": {},
     "output_type": "execute_result"
    }
   ],
   "source": [
    "# X_train, X_val, y_train, y_val = train_test_split(features_df, target, test_size=0.15, random_state=1)\n",
    "# X_train.shape, X_val.shape\n",
    "# feature_encoder = OneHotEncoder()\n",
    "# target_encoder = OneHotEncoder()\n",
    "# X_train_encoded = feature_encoder.fit_transform(X_train)\n",
    "# y_train_encoded = target_encoder.fit_transform(y_train)\n",
    "# X_val_encoded = feature_encoder.fit(X_val)\n",
    "# y_val_encoded = feature_encoder.fit(y_val)"
   ]
  },
  {
   "cell_type": "code",
   "execution_count": 35,
   "metadata": {},
   "outputs": [
    {
     "name": "stderr",
     "output_type": "stream",
     "text": [
      "/Library/Frameworks/Python.framework/Versions/3.10/lib/python3.10/site-packages/sklearn/preprocessing/_label.py:115: DataConversionWarning: A column-vector y was passed when a 1d array was expected. Please change the shape of y to (n_samples, ), for example using ravel().\n",
      "  y = column_or_1d(y, warn=True)\n"
     ]
    }
   ],
   "source": [
    "feature_encoder = OrdinalEncoder()\n",
    "target_encoder = LabelEncoder()\n",
    "X_train_encoded = feature_encoder.fit_transform(features_df)\n",
    "y_train_encoded = target_encoder.fit_transform(target)"
   ]
  },
  {
   "cell_type": "code",
   "execution_count": 39,
   "metadata": {},
   "outputs": [
    {
     "data": {
      "text/plain": [
       "(36085, 20)"
      ]
     },
     "metadata": {},
     "output_type": "display_data"
    }
   ],
   "source": [
    "fs = SelectKBest(score_func=chi2, k=20)\n",
    "fs.fit(X_train_encoded, y_train_encoded)\n",
    "X_train_best_feat = fs.transform(X_train_encoded)\n",
    "display(X_train_best_feat.shape)\n",
    "fs.scores_.shape\n",
    "selected_questions = np.argpartition(fs.scores_, -20)[-20:]\n",
    "selected_questions = selected_questions[np.argsort(fs.scores_[selected_questions])][::-1]\n",
    "\n",
    " "
   ]
  },
  {
   "cell_type": "code",
   "execution_count": 37,
   "metadata": {},
   "outputs": [
    {
     "name": "stdout",
     "output_type": "stream",
     "text": [
      "Feature 0: Gender: 3518.4968776594073\n",
      "Feature 1: How important are your political beliefs to you?: 1396.4425043989763\n",
      "Feature 2: How often do you keep your promises?: 528.0941651171142\n",
      "Feature 3: Do you say 'Thank you' to wait staff when served in a restaurant?: 454.3716110331503\n",
      "Feature 4: Are you an aspiring actor/artist/writer or other creative type?: 445.5212666020613\n",
      "Feature 5: Are you ready to settle down and get married right now?: 372.9803474091204\n",
      "Feature 6: Do you litter?: 363.7239393199746\n",
      "Feature 7: You're dating someone new. You discover that they have a housemate the same sex as you. This:: 358.4066012654771\n",
      "Feature 8: If you had to name your greatest motivation in life thus far, what would it be?: 334.4650888360398\n",
      "Feature 9: How frequently do you bathe or shower?: 329.01369677484433\n",
      "Feature 10: What's your relationship with marijuana?: 320.6128247289362\n",
      "Feature 11: How frequently do you drink alcohol?: 279.70662165665357\n",
      "Feature 12: Do you like watching foreign movies with subtitles?: 267.96363849170086\n",
      "Feature 13: Which word describes you better?: 250.88333206943298\n",
      "Feature 14: How do you feel about documentaries?: 250.12769721476656\n",
      "Feature 15: Have you smoked a cigarette in the last 6 months?: 163.0458684583147\n",
      "Feature 16: If it were legal to do so where you live, would you smoke marijuana?: 160.86841673397942\n",
      "Feature 17: When you are angry or frustrated, do you ever throw, smash, kick, hit inanimate objects (non-living things)?: 135.74685562715024\n",
      "Feature 18: If you were to die, would whoever goes through your personal belongings be shocked by what they find?: 123.81578611477617\n",
      "Feature 19: How often do you do things out of spite?: 108.60683279151668\n"
     ]
    },
    {
     "data": {
      "image/png": "[encoded data removed]",
      "text/plain": [
       "<Figure size 432x288 with 1 Axes>"
      ]
     },
     "metadata": {},
     "output_type": "display_data"
    }
   ],
   "source": [
    "for i, score in enumerate(fs.scores_[selected_questions]):\n",
    "    print(f'Feature {i}: {questions.loc[sorted_questions[selected_questions[i]]].text}: {score}')\n",
    "\n",
    "# plot the scores\n",
    "plt.bar(range(len(fs.scores_)), fs.scores_)\n",
    "plt.show()"
   ]
  },
  {
   "attachments": {},
   "cell_type": "markdown",
   "metadata": {},
   "source": [
    "# Model Selection"
   ]
  },
  {
   "cell_type": "code",
   "execution_count": 51,
   "metadata": {},
   "outputs": [
    {
     "name": "stdout",
     "output_type": "stream",
     "text": [
      "mean test score [0.44305252 0.44310753 0.44298471 0.44386743 0.44341777 0.41995266\n",
      " 0.34914062]\n",
      "best estimator CategoricalNB(alpha=1, fit_prior=False)\n"
     ]
    }
   ],
   "source": [
    "# Naive Bayes Hyper parameter Tuning\n",
    "parameters = {'alpha': [0.001, 0.01, 0.1, 1, 10, 100, 1000]}\n",
    "nb = CategoricalNB(fit_prior=False)\n",
    "clf = GridSearchCV(nb, parameters, scoring='balanced_accuracy')  # stratified per default\n",
    "clf.fit(X_train_best_feat, y_train_encoded)\n",
    "sorted(clf.cv_results_.keys())\n",
    "print('mean test score', clf.cv_results_['mean_test_score'])\n",
    "print('best estimator', clf.best_estimator_)"
   ]
  },
  {
   "cell_type": "code",
   "execution_count": null,
   "metadata": {},
   "outputs": [],
   "source": [
    "# Logistic\n",
    "model = LogisticRegression(solver='lbfgs', max_iter=200)\n",
    "model.fit(X_train, y_train)"
   ]
  },
  {
   "cell_type": "code",
   "execution_count": null,
   "metadata": {},
   "outputs": [],
   "source": [
    "\n",
    "best_alpha = {}\n",
    "\n",
    "num_folds = 10\n",
    "n_features = np.power(10, range(-3,3), dtype=float)\n",
    "k_folds_xs = np.array(np.array_split(xs_train, num_folds), dtype='object')\n",
    "k_folds_ys = np.array(np.array_split(ys_train, num_folds), dtype='object')\n",
    "\n",
    "cv_errors_svm = np.ones((len(Cs)))\n",
    "cv_errors_lr = np.ones((len(Cs)))\n",
    "for i, c in enumerate(Cs):\n",
    "    k_fold_errors_svm = []\n",
    "    k_fold_errors_lr = []\n",
    "    svm = LinearSVC(C=c)\n",
    "    lr =  LogisticRegression(C=c)\n",
    "    for test_index in range(num_folds):\n",
    "        train_index = np.arange(len(k_folds_xs)) != test_index\n",
    "        # svm\n",
    "        svm_estimator = svm.fit(\n",
    "            np.concatenate(k_folds_xs[train_index]), np.concatenate(k_folds_ys[train_index]))\n",
    "        k_fold_errors_svm.append( 1 - svm_estimator.score(k_folds_xs[test_index], k_folds_ys[test_index]))\n",
    "        # lr\n",
    "        lr_estimator = lr.fit(\n",
    "            np.concatenate(k_folds_xs[train_index]), np.concatenate(k_folds_ys[train_index]))\n",
    "        k_fold_errors_lr.append( 1 - lr_estimator.score(k_folds_xs[test_index], k_folds_ys[test_index]))    \n",
    "\n",
    "    cv_errors_svm[i]= np.mean(k_fold_errors_svm)\n",
    "    cv_errors_lr[i]= np.mean(k_fold_errors_lr)\n",
    "    \n",
    "best_estimator_svm = Cs[np.argmin(cv_errors_svm)]\n",
    "best_estimator_lr = Cs[np.argmin(cv_errors_lr)]\n",
    "print(f'best c value for svm, c={best_estimator_svm}')\n",
    "print(f'best c value for lr, c={best_estimator_lr}')\n",
    "print(f\"Cross validation errors of best model: Linear SVM {cv_errors_svm.min():.4f}, Logistic Regression {cv_errors_lr.min():.4f}\")\n",
    "\n"
   ]
  },
  {
   "attachments": {},
   "cell_type": "markdown",
   "metadata": {},
   "source": [
    "# Data Distributions"
   ]
  },
  {
   "cell_type": "code",
   "execution_count": 148,
   "metadata": {},
   "outputs": [
    {
     "data": {
      "image/png": "[encoded data removed]",
      "text/plain": [
       "<Figure size 1296x720 with 4 Axes>"
      ]
     },
     "metadata": {
      "needs_background": "light"
     },
     "output_type": "display_data"
    }
   ],
   "source": [
    "fig, axes = plt.subplots(2, 2, figsize=(18, 10))\n",
    " \n",
    "fig.suptitle('Distributions (make better title)')\n",
    "\n",
    " \n",
    "sns.countplot(ax=axes[0, 0], data=data, x='political_belief', palette=\"pastel\").set(title=questions.loc['q212813', 'text'])\n",
    "sns.countplot(ax=axes[0, 1], data=data, x='gender', palette=\"pastel\")\n",
    "sns.countplot(ax=axes[1, 0], data=data, x='d_age', palette=\"pastel\")\n",
    "sns.countplot(ax=axes[1, 1], data=data, x='d_country', palette=\"pastel\")\n",
    "plt.show()"
   ]
  },
  {
   "cell_type": "code",
   "execution_count": 149,
   "metadata": {},
   "outputs": [],
   "source": [
    "descriptive_questions = [column for column in data.columns if column.startswith('q')]\n",
    "data['n_q_answered'] = data[descriptive_questions].count(axis=1)"
   ]
  },
  {
   "cell_type": "code",
   "execution_count": 150,
   "metadata": {},
   "outputs": [
    {
     "data": {
      "image/png": "[encoded data removed]",
      "text/plain": [
       "<Figure size 432x288 with 1 Axes>"
      ]
     },
     "metadata": {
      "needs_background": "light"
     },
     "output_type": "display_data"
    }
   ],
   "source": [
    "ax = sns.countplot(x=data['n_q_answered'])\n",
    "ax.set_xticks(range(-2, data['n_q_answered'].max(), 100))\n",
    "plt.show()"
   ]
  }
 ],
 "metadata": {
  "kernelspec": {
   "display_name": "Python 3",
   "language": "python",
   "name": "python3"
  },
  "language_info": {
   "codemirror_mode": {
    "name": "ipython",
    "version": 3
   },
   "file_extension": ".py",
   "mimetype": "text/x-python",
   "name": "python",
   "nbconvert_exporter": "python",
   "pygments_lexer": "ipython3",
   "version": "3.10.0"
  },
  "orig_nbformat": 4,
  "vscode": {
   "interpreter": {
    "hash": "aee8b7b246df8f9039afb4144a1f6fd8d2ca17a180786b69acc140d282b71a49"
   }
  }
 },
 "nbformat": 4,
 "nbformat_minor": 2
}
