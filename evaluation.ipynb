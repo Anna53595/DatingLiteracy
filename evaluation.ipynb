{
 "cells": [
  {
   "attachments": {},
   "cell_type": "markdown",
   "metadata": {},
   "source": [
    "# Evaluation"
   ]
  },
  {
   "cell_type": "code",
   "execution_count": null,
   "metadata": {},
   "outputs": [],
   "source": [
    "import pandas as pd\n",
    "import pickle\n",
    "import seaborn as sns\n",
    "import numpy as np\n",
    "import matplotlib.pyplot as plt\n",
    "import joblib\n",
    "from sklearn.metrics import (confusion_matrix, accuracy_score, \n",
    "                            f1_score, recall_score, balanced_accuracy_score, \n",
    "                            precision_score, precision_recall_fscore_support)"
   ]
  },
  {
   "cell_type": "code",
   "execution_count": null,
   "metadata": {},
   "outputs": [],
   "source": [
    "data = pd.read_parquet('data/test.parquet')\n",
    "feature_questions = ['dq823','dq789','dq109','dq821','dq8','dq305','dq373','dq420','dq10','dq141','dq9','dq0','dq268','dq198','dq331','dq500','dq296','dq299','dq824','dq95','dq475','dq581','dq294','dq118','dq40','dq725','dq34','dq234','dq136','dq173','dq64','dq117','dq516','dq337','dq579','dq237','dq426','dq657','dq820','dq391','dq348','dq359','dq327','dq379','dq354','dq759','dq470','dq11','dq175','dq60','dq650','dq23','dq586','dq679','dq663','dq158','dq251','dq257','dq307','dq256','dq681','dq270']"
   ]
  },
  {
   "cell_type": "code",
   "execution_count": null,
   "metadata": {},
   "outputs": [],
   "source": [
    "X_test = data[feature_questions].dropna()\n",
    "y_test = data.loc[X_test.index]['political_belief']\n",
    "feature_encoder = pickle.load(open('models/feature_encoder.pkl', 'rb'))\n",
    "target_encoder = pickle.load(open('models/target_encoder.pkl', 'rb'))\n",
    "X_test = feature_encoder.transform(X_test)\n",
    "y_test = target_encoder.transform(y_test.values.ravel())\n",
    "print('X_test shape: ', X_test.shape)\n",
    "print('y_test shape: ', y_test.shape)\n"
   ]
  },
  {
   "cell_type": "code",
   "execution_count": null,
   "metadata": {},
   "outputs": [],
   "source": [
    "model = joblib.load(open('models/rf_downsampled_trn_set.joblib', 'rb'))"
   ]
  },
  {
   "cell_type": "code",
   "execution_count": null,
   "metadata": {},
   "outputs": [],
   "source": [
    "y_pred = model.predict(X_test)\n",
    "conf_matrix = confusion_matrix(y_test, y_pred, normalize='true', labels=range(4))\n",
    "accuracy = accuracy_score(y_test, y_pred)\n",
    "balanced_accuracy = balanced_accuracy_score(y_test, y_pred)\n",
    "f1 = f1_score(y_test, y_pred, average='weighted')\n",
    "recall = recall_score(y_test, y_pred, average='weighted')\n",
    "precision = precision_score(y_test, y_pred, average='weighted')\n",
    "prfs = precision_recall_fscore_support(y_test, y_pred)\n",
    "print('accuracy', accuracy)\n",
    "print('balanced accuracy', balanced_accuracy)\n",
    "print('f1 ', f1)\n",
    "print('recall ', recall)\n",
    "print('precision ', precision)\n",
    "print('among classes: precision, recall, f1, score', prfs)\n",
    "print(conf_matrix)\n"
   ]
  },
  {
   "cell_type": "code",
   "execution_count": null,
   "metadata": {},
   "outputs": [],
   "source": [
    "prfs = pd.DataFrame(prfs, index=['precision', 'recall', 'f1', 'size'], columns=['centrist', 'conservative', 'liberal', 'other'])"
   ]
  },
  {
   "cell_type": "code",
   "execution_count": null,
   "metadata": {},
   "outputs": [],
   "source": [
    "labels = ['Centrist', 'Conservative', 'Liberal', 'Other']\n",
    "\n",
    "plt.figure(figsize=(8,6), dpi=100)\n",
    "# Scale up the size of all text\n",
    "sns.set(font_scale = 1.1)\n",
    "\n",
    "ax = sns.heatmap(conf_matrix, annot=True )\n",
    "\n",
    "# set x-axis label and ticks. \n",
    "ax.set_xlabel(\"Predicted Political Orientation\", fontsize=14, labelpad=20)\n",
    "ax.xaxis.set_ticklabels(labels)\n",
    "\n",
    "# set y-axis label and ticks\n",
    "ax.set_ylabel(\"Actual Political Orientation\", fontsize=14, labelpad=20)\n",
    "ax.yaxis.set_ticklabels(labels)\n",
    "\n",
    "# set plot title\n",
    "#ax.set_title(\"\", fontsize=14, pad=20)\n",
    "plt.savefig(f'data/images/ConfusionMatrix.png',bbox_inches='tight')\n",
    "\n",
    "plt.show()"
   ]
  }
 ],
 "metadata": {
  "kernelspec": {
   "display_name": "dating",
   "language": "python",
   "name": "python3"
  },
  "language_info": {
   "codemirror_mode": {
    "name": "ipython",
    "version": 3
   },
   "file_extension": ".py",
   "mimetype": "text/x-python",
   "name": "python",
   "nbconvert_exporter": "python",
   "pygments_lexer": "ipython3",
   "version": "3.9.15 (main, Nov 24 2022, 08:29:02) \n[Clang 14.0.6 ]"
  },
  "orig_nbformat": 4,
  "vscode": {
   "interpreter": {
    "hash": "890d4ee240ac5ac260547f729684c54cbff557abe3fc52197092a1a13992c0b0"
   }
  }
 },
 "nbformat": 4,
 "nbformat_minor": 2
}
