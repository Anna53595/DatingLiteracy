{
 "cells": [
  {
   "attachments": {},
   "cell_type": "markdown",
   "metadata": {},
   "source": [
    "\n",
    "References:\n",
    "\n",
    "[1]\n",
    "Ojala and Garriga. Permutation Tests for Studying Classifier Performance. The Journal of Machine Learning Research (2010) vol. 11"
   ]
  },
  {
   "cell_type": "code",
   "execution_count": null,
   "metadata": {},
   "outputs": [],
   "source": [
    "import numpy as np\n",
    "import seaborn as sns\n",
    "from sklearn.model_selection import (cross_validate, cross_val_predict,cross_val_score, train_test_split, permutation_test_score, StratifiedKFold,"
   ]
  },
  {
   "cell_type": "code",
   "execution_count": null,
   "metadata": {},
   "outputs": [],
   "source": [
    "## Permutation Test\n",
    "\n",
    "import joblib\n",
    "rf_tuned = joblib.load(open('models/rf_downsampled_trn_set.joblib', 'rb'))\n",
    "\n",
    "rng = np.random.RandomState(seed=0)\n",
    "# Use same number of samples and features as in the original data \n",
    "X_rand = np.random.permutation(X_train_encoded)\n",
    "\n",
    "clf = rf_tuned\n",
    "cv = StratifiedKFold(2, shuffle=True, random_state=1)\n",
    "\n",
    "score_data, perm_scores_data, pvalue_data = permutation_test_score(\n",
    "    clf, X_train_encoded, y_train_encoded, scoring=\"balanced_accuracy\", cv=cv, n_permutations=1000\n",
    ")\n",
    "\n",
    "score_rand, perm_scores_rand, pvalue_rand = permutation_test_score(\n",
    "    clf, X_rand, y_train_encoded, scoring=\"balanced_accuracy\", cv=cv, n_permutations=1000\n",
    ")\n",
    "plt.figure(figsize=(7,5))\n",
    "sns.set_style(\"white\")\n",
    "\n",
    "g = sns.histplot(perm_scores_data, binwidth=0.009, common_norm=True, label='scores on permuted data')\n",
    "plt.vlines(score_data, ymin=0, ymax=51, ls=\"--\", color=\"r\", label='score on original data')\n",
    "\n",
    "g.legend(title=f'p-value: {pvalue_data:.2f}',frameon=False)\n",
    "g.set_xlim(0,1)\n",
    "g.set_xlabel('balanced accuracy score')\n",
    "g.set_xticks([0, perm_scores_data.mean(), score_data.round(2), 0.5, 0.75, 1])\n",
    "g.set_xticklabels([0, perm_scores_data.mean().round(2), score_data.round(2), 0.5, 0.75, 1])\n",
    "sns.despine()\n",
    "\n",
    "plt.figure(figsize=(7,5))\n",
    "sns.set_style(\"white\")\n",
    "sns.set_style(\"ticks\")\n",
    "\n",
    "g = sns.histplot(perm_scores_rand, binwidth=0.009, common_norm=True, label='scores on permuted data')\n",
    "plt.vlines(score_rand, ymin=0, ymax=51, ls=\"--\", color=\"r\", label='score on random data')\n",
    "\n",
    "g.legend(title=f'p-value: {pvalue_rand:.2f}',frameon=False)\n",
    "g.set_xlim(0,1)\n",
    "g.set_xlabel('balanced accuracy score')\n",
    "g.set_xticks([0, perm_scores_rand.mean(), score_rand.round(2), 0.5, 0.75, 1])\n",
    "g.set_xticklabels([0, perm_scores_rand.mean().round(2), score_rand.round(2), 0.5, 0.75, 1])\n",
    "sns.despine()\n"
   ]
  }
 ],
 "metadata": {
  "kernelspec": {
   "display_name": "Python 3",
   "language": "python",
   "name": "python3"
  },
  "language_info": {
   "codemirror_mode": {
    "name": "ipython",
    "version": 3
   },
   "file_extension": ".py",
   "mimetype": "text/x-python",
   "name": "python",
   "nbconvert_exporter": "python",
   "pygments_lexer": "ipython3",
   "version": "3.10.0"
  },
  "orig_nbformat": 4,
  "vscode": {
   "interpreter": {
    "hash": "aee8b7b246df8f9039afb4144a1f6fd8d2ca17a180786b69acc140d282b71a49"
   }
  }
 },
 "nbformat": 4,
 "nbformat_minor": 2
}
