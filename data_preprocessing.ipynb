{
 "cells": [
  {
   "cell_type": "code",
   "execution_count": null,
   "metadata": {},
   "outputs": [],
   "source": [
    "import pandas as pd\n",
    "import os\n",
    "from sklearn.model_selection import train_test_split"
   ]
  },
  {
   "cell_type": "code",
   "execution_count": null,
   "metadata": {},
   "outputs": [],
   "source": [
    "root_path = 'data/'"
   ]
  },
  {
   "cell_type": "markdown",
   "metadata": {},
   "source": [
    "## Load Datasets"
   ]
  },
  {
   "cell_type": "markdown",
   "metadata": {},
   "source": [
    "### Question Data"
   ]
  },
  {
   "cell_type": "code",
   "execution_count": null,
   "metadata": {
    "scrolled": true
   },
   "outputs": [],
   "source": [
    "# data loading\n",
    "questions = pd.read_csv(os.path.join(root_path, 'question_data.csv'), sep=';')\n",
    "questions = questions.set_index('Unnamed: 0')  # set first column (question number) as index\n",
    "questions.index.rename('q_id', inplace=True)\n",
    "\n",
    "descriptive_questions = questions[questions['Keywords']=='descriptive'].index.to_list()\n",
    "question_to_id = {question_id: 'dq'+str(i) for i, question_id in enumerate(descriptive_questions)}\n",
    "descriptive_questions = list(question_to_id.values())\n",
    "questions.rename(index=question_to_id, inplace=True)\n",
    "display(questions.loc[descriptive_questions].head())\n"
   ]
  },
  {
   "cell_type": "code",
   "execution_count": null,
   "metadata": {},
   "outputs": [],
   "source": [
    "#add missing entries in 'Order' column\n",
    "for index, row in questions.loc[descriptive_questions].iterrows():\n",
    "    if type(row['Order'])!=list and str(row['option_1']) != 'nan':   \n",
    "        order = [row['option_1'], row['option_2']]\n",
    "        if isinstance(row['option_3'], str):\n",
    "            order.append(row['option_3'])\n",
    "        if isinstance(row['option_4'], str):\n",
    "            order.append(row['option_4'])\n",
    "        questions.at[index, 'Order']=order\n",
    "display(questions.loc[descriptive_questions].head())"
   ]
  },
  {
   "cell_type": "code",
   "execution_count": null,
   "metadata": {},
   "outputs": [],
   "source": [
    "questions.to_csv(os.path.join(root_path, 'questions_preprocessed.csv'), sep=';')"
   ]
  },
  {
   "cell_type": "markdown",
   "metadata": {},
   "source": [
    "### Data"
   ]
  },
  {
   "cell_type": "code",
   "execution_count": null,
   "metadata": {},
   "outputs": [],
   "source": [
    "data = pd.read_parquet(os.path.join(root_path, 'parsed_data_public.parquet'))\n",
    "political_belief = 'q212813'\n",
    "data.rename({'q212813': 'political_belief', 'Unnamed: 0': 'user_id',**question_to_id}, axis=1, inplace=True)\n",
    "print('shape', data.shape)\n",
    "display(data.head())"
   ]
  },
  {
   "cell_type": "code",
   "execution_count": null,
   "metadata": {},
   "outputs": [],
   "source": [
    "## All questions except descriptive and political belief\n",
    "not_descriptive = {column for column in data.columns if column.startswith('q')}\n",
    "## Drop non-descriptive questions from data set\n",
    "data = data.drop(not_descriptive, axis=1)\n",
    "## Extract answered political belief\n",
    "data = data[data['political_belief'].notna()]"
   ]
  },
  {
   "cell_type": "code",
   "execution_count": null,
   "metadata": {},
   "outputs": [],
   "source": [
    "print(data[question_to_id.values()].shape)\n",
    "data.head()"
   ]
  },
  {
   "cell_type": "markdown",
   "metadata": {},
   "source": [
    "## Train-Test-Split and save df"
   ]
  },
  {
   "cell_type": "code",
   "execution_count": null,
   "metadata": {},
   "outputs": [],
   "source": [
    "df_train, df_test = train_test_split(data, shuffle=True, test_size=0.1, random_state=42)\n",
    "df_train.to_parquet(os.path.join(root_path, 'train.parquet'))\n",
    "df_test.to_parquet(os.path.join(root_path, 'test.parquet'))"
   ]
  }
 ],
 "metadata": {
  "kernelspec": {
   "display_name": "Python 3 (ipykernel)",
   "language": "python",
   "name": "python3"
  },
  "language_info": {
   "codemirror_mode": {
    "name": "ipython",
    "version": 3
   },
   "file_extension": ".py",
   "mimetype": "text/x-python",
   "name": "python",
   "nbconvert_exporter": "python",
   "pygments_lexer": "ipython3",
   "version": "3.9.15 (main, Nov 24 2022, 08:29:02) \n[Clang 14.0.6 ]"
  },
  "vscode": {
   "interpreter": {
    "hash": "890d4ee240ac5ac260547f729684c54cbff557abe3fc52197092a1a13992c0b0"
   }
  }
 },
 "nbformat": 4,
 "nbformat_minor": 2
}
